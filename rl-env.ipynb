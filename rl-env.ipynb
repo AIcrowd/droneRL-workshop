{
 "cells": [
  {
   "cell_type": "code",
   "execution_count": null,
   "metadata": {},
   "outputs": [],
   "source": [
    "%matplotlib inline\n",
    "from IPython.display import clear_output\n",
    "import matplotlib.pyplot as plt\n",
    "import numpy as np\n",
    "import time"
   ]
  },
  {
   "cell_type": "markdown",
   "metadata": {},
   "source": [
    "Environment demo\n",
    "---"
   ]
  },
  {
   "cell_type": "code",
   "execution_count": null,
   "metadata": {},
   "outputs": [],
   "source": [
    "%run env.py\n",
    "%run rl-helpers.py\n",
    "\n",
    "# Create drones & environment\n",
    "drones_names = ['A', 'B', 'C']\n",
    "env = DeliveryDrones(n_drones=len(drones_names))\n",
    "drones = {\n",
    "    drone_name: RandomAgent(\n",
    "        state_size=env.observation_space.n,\n",
    "        action_size=env.action_space.n\n",
    "    )\n",
    "    for drone_name in drones_names\n",
    "}\n",
    "states = env.reset(drones.keys())\n",
    "\n",
    "# Simulation loop\n",
    "while True:\n",
    "    # Render\n",
    "    clear_output(wait=True)\n",
    "    env.render()\n",
    "    \n",
    "    # Act\n",
    "    actions = {\n",
    "        drone_name: drone_agent.act(states[drone_name])\n",
    "        for drone_name, drone_agent in drones.items()\n",
    "    }\n",
    "    \n",
    "    # Print last rewards and next actions\n",
    "    print('Last rewards:', None if 'rewards' not in locals() else rewards)\n",
    "    print('Next actions:', {n: Action(i) for n, i in actions.items()})\n",
    "    \n",
    "    # Sleep and step\n",
    "    time.sleep(10)\n",
    "    next_states, rewards, done, _ = env.step(actions)"
   ]
  },
  {
   "cell_type": "markdown",
   "metadata": {},
   "source": [
    "Graphics\n",
    "---"
   ]
  },
  {
   "cell_type": "code",
   "execution_count": null,
   "metadata": {},
   "outputs": [],
   "source": [
    "# TODO\n",
    "\n",
    "# Drone, pickup, dropoff, collision ~ simple geometric shapes\n",
    "# https://image.freepik.com/free-vector/simple-geometric-shapes-background_1168-371.jpg\n",
    "# Animation: slightly growing/shrinking to simulate up/down movement with shade\n",
    "\n",
    "# Desired output\n",
    "# https://img.deszone.net/2018/05/simple-geometric-shapes-free-vector-pattern4.jpg\n",
    "# https://as1.ftcdn.net/jpg/01/72/82/18/500_F_172821814_Oyl3cNYBcigDpeCzehbAQghLxJILrZA5.jpg\n",
    "\n",
    "# Other ideas\n",
    "# Drones leave a fading trace"
   ]
  }
 ],
 "metadata": {
  "kernelspec": {
   "display_name": "Python 3",
   "language": "python",
   "name": "python3"
  },
  "language_info": {
   "codemirror_mode": {
    "name": "ipython",
    "version": 3
   },
   "file_extension": ".py",
   "mimetype": "text/x-python",
   "name": "python",
   "nbconvert_exporter": "python",
   "pygments_lexer": "ipython3",
   "version": "3.6.7"
  }
 },
 "nbformat": 4,
 "nbformat_minor": 4
}
