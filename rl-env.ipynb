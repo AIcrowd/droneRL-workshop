{
 "cells": [
  {
   "cell_type": "code",
   "execution_count": null,
   "metadata": {},
   "outputs": [],
   "source": [
    "%matplotlib inline\n",
    "from IPython.display import clear_output\n",
    "import matplotlib.pyplot as plt\n",
    "import numpy as np\n",
    "import time\n",
    "from tqdm import tqdm_notebook\n",
    "import string"
   ]
  },
  {
   "cell_type": "markdown",
   "metadata": {},
   "source": [
    "Environment demo\n",
    "---"
   ]
  },
  {
   "cell_type": "code",
   "execution_count": null,
   "metadata": {},
   "outputs": [],
   "source": [
    "%run env.py\n",
    "%run rl-helpers.py\n",
    "\n",
    "# Create drones & environment\n",
    "n_drones = 3\n",
    "drones_names = string.ascii_uppercase[:n_drones]\n",
    "env = DeliveryDrones(n_drones=len(drones_names))\n",
    "state_adaptor = EngineeredQTable(env)\n",
    "drones = {\n",
    "    drone_name: QLearningAgent(\n",
    "        state_size=state_adaptor.observation_space.n,\n",
    "        action_size=env.action_space.n,\n",
    "        gamma= 0.95,\n",
    "        alpha= 0.1\n",
    "    )\n",
    "    for drone_name in drones_names\n",
    "}\n",
    "states = env.reset(drones.keys(), state_adaptor)\n",
    "\n",
    "# Simulation loop\n",
    "rewards = None\n",
    "while True:\n",
    "    # Render\n",
    "    clear_output(wait=True)\n",
    "    env.render()\n",
    "    \n",
    "    # Act\n",
    "    actions = {name: agent.act(states[name]) for name, agent in drones.items()}\n",
    "    \n",
    "    # Print last rewards and next actions\n",
    "    print('Last rewards:', rewards)\n",
    "    print('Next actions:', {n: Action(i) for n, i in actions.items()})\n",
    "    \n",
    "    # Sleep, step, learn\n",
    "    time.sleep(0.1)\n",
    "    next_states, rewards, done, _ = env.step(actions, state_adaptor)\n",
    "    for name, drone in drones.items():\n",
    "        drone.learn(states[name], actions[name], rewards[name], next_states[name], done)"
   ]
  },
  {
   "cell_type": "markdown",
   "metadata": {},
   "source": [
    "Benchmarking\n",
    "---"
   ]
  },
  {
   "cell_type": "code",
   "execution_count": null,
   "metadata": {},
   "outputs": [],
   "source": [
    "%run env.py\n",
    "%run rl-helpers.py\n",
    "\n",
    "# How many participants?\n",
    "n_drones = 25\n",
    "\n",
    "# Create drones & environment\n",
    "drones_names = list(range(n_drones))\n",
    "env = DeliveryDrones(n_drones=len(drones_names))\n",
    "state_adaptor = EngineeredQTable(env)\n",
    "drones = {\n",
    "    drone_name: RandomAgent(\n",
    "        state_size=state_adaptor.observation_space.n,\n",
    "        action_size=env.action_space.n\n",
    "    )\n",
    "    for drone_name in drones_names\n",
    "}\n",
    "states = env.reset(drones.keys(), state_adaptor)\n",
    "\n",
    "# Run drones\n",
    "for _ in tqdm_notebook(range(10**6)):\n",
    "    actions = {name: agent.act(states[name]) for name, agent in drones.items()}\n",
    "    next_states, rewards, done, _ = env.step(actions, state_adaptor)"
   ]
  },
  {
   "cell_type": "markdown",
   "metadata": {},
   "source": [
    "Graphics\n",
    "---"
   ]
  },
  {
   "cell_type": "code",
   "execution_count": null,
   "metadata": {},
   "outputs": [],
   "source": [
    "# TODO\n",
    "\n",
    "# Drone, pickup, dropoff, collision ~ simple geometric shapes\n",
    "# https://image.freepik.com/free-vector/simple-geometric-shapes-background_1168-371.jpg\n",
    "# Animation: slightly growing/shrinking to simulate up/down movement with shade\n",
    "\n",
    "# Desired output\n",
    "# https://img.deszone.net/2018/05/simple-geometric-shapes-free-vector-pattern4.jpg\n",
    "# https://as1.ftcdn.net/jpg/01/72/82/18/500_F_172821814_Oyl3cNYBcigDpeCzehbAQghLxJILrZA5.jpg\n",
    "\n",
    "# Other ideas\n",
    "# Drones leave a fading trace"
   ]
  }
 ],
 "metadata": {
  "kernelspec": {
   "display_name": "Python 3",
   "language": "python",
   "name": "python3"
  },
  "language_info": {
   "codemirror_mode": {
    "name": "ipython",
    "version": 3
   },
   "file_extension": ".py",
   "mimetype": "text/x-python",
   "name": "python",
   "nbconvert_exporter": "python",
   "pygments_lexer": "ipython3",
   "version": "3.6.7"
  }
 },
 "nbformat": 4,
 "nbformat_minor": 4
}
