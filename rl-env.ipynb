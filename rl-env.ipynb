{
 "cells": [
  {
   "cell_type": "code",
   "execution_count": null,
   "metadata": {},
   "outputs": [],
   "source": [
    "%matplotlib inline\n",
    "from IPython.display import clear_output\n",
    "import time\n",
    "import string"
   ]
  },
  {
   "cell_type": "markdown",
   "metadata": {},
   "source": [
    "Q-learning agent\n",
    "---"
   ]
  },
  {
   "cell_type": "code",
   "execution_count": null,
   "metadata": {},
   "outputs": [],
   "source": [
    "# TODO LIST\n",
    "# - Implement wrapper for reward engineering"
   ]
  },
  {
   "cell_type": "code",
   "execution_count": null,
   "metadata": {},
   "outputs": [],
   "source": [
    "%run env.py\n",
    "%run rl-helpers.py\n",
    "\n",
    "# Create drones\n",
    "n_drones = 3\n",
    "drones_names = list(string.ascii_uppercase[:n_drones])\n",
    "\n",
    "# Create environment\n",
    "env = DirectionQTable(DeliveryDrones(drones_names))\n",
    "states = env.reset()\n",
    "print('Number of states:', env.observation_space.n)\n",
    "\n",
    "# Create drones\n",
    "drones = {n: RandomAgent(env.observation_space.n, env.action_space.n) for n in drones_names}\n",
    "my_drone_name = drones_names[0]\n",
    "my_drone = QLearningAgent(\n",
    "    state_size=env.observation_space.n,\n",
    "    action_size=env.action_space.n,\n",
    "    gamma=0.9, alpha=0.01,\n",
    "    epsilon_start=1, epsilon_end=0.01, epsilon_decay=0.98\n",
    ")\n",
    "drones[my_drone_name] = my_drone\n",
    "\n",
    "# Create trainer\n",
    "trainer = MultiAgentTrainer(env, drones, seed=0)\n",
    "\n",
    "# Train for a few steps, plot results\n",
    "my_drone.greedy(False)\n",
    "trainer.train(5000)\n",
    "plot_rolling_rewards(trainer.rewards_log)\n",
    "render_qtable(my_drone.q_table, fmt='{:.2g}')\n",
    "\n",
    "# Test agents\n",
    "my_drone.greedy(True)\n",
    "rewards_log = test_agents(env, drones, n_steps=1000, seed=0)\n",
    "plot_cumulated_rewards(rewards_log)"
   ]
  },
  {
   "cell_type": "markdown",
   "metadata": {},
   "source": [
    "Test agents\n",
    "---"
   ]
  },
  {
   "cell_type": "code",
   "execution_count": null,
   "metadata": {},
   "outputs": [],
   "source": [
    "# Make sure our drone behaves greedily\n",
    "my_drone.greedy(True)\n",
    "\n",
    "# Simulation loop\n",
    "states = env.reset()\n",
    "rewards = None\n",
    "while True:\n",
    "    # Render\n",
    "    clear_output(wait=True)\n",
    "    print(env.render('ainsi'))\n",
    "\n",
    "    # Act\n",
    "    actions = {name: agent.act(states[name]) for name, agent in drones.items()}\n",
    "\n",
    "    # Print last rewards and next actions\n",
    "    print('Last rewards:', rewards)\n",
    "    print('Next actions:', {n: Action(i) for n, i in actions.items()})\n",
    "\n",
    "    # Sleep, step, learn\n",
    "    time.sleep(0.5)\n",
    "    states, rewards, dones, _ = env.step(actions)"
   ]
  },
  {
   "cell_type": "markdown",
   "metadata": {},
   "source": [
    "Benchmarking\n",
    "---"
   ]
  },
  {
   "cell_type": "code",
   "execution_count": null,
   "metadata": {},
   "outputs": [],
   "source": [
    "%run env.py\n",
    "%run rl-helpers.py\n",
    "\n",
    "# How many participants?\n",
    "n_drones = 25\n",
    "\n",
    "# Create drones & environment\n",
    "drones_names = range(n_drones)\n",
    "env = DirectionQTable(DeliveryDrones(drones_names))\n",
    "drones = {drone_name: RandomAgent(env.observation_space.n, env.action_space.n) for drone_name in drones_names}\n",
    "states = env.reset()\n",
    "\n",
    "# Run drones\n",
    "for _ in tqdm_notebook(range(10**6)):\n",
    "    actions = {name: agent.act(states[name]) for name, agent in drones.items()}\n",
    "    states, rewards, dones, _ = env.step(actions)"
   ]
  },
  {
   "cell_type": "markdown",
   "metadata": {},
   "source": [
    "Graphics\n",
    "---"
   ]
  },
  {
   "cell_type": "code",
   "execution_count": null,
   "metadata": {},
   "outputs": [],
   "source": [
    "# TODO\n",
    "\n",
    "# Drone, pickup, dropoff, collision ~ simple geometric shapes\n",
    "# https://image.freepik.com/free-vector/simple-geometric-shapes-background_1168-371.jpg\n",
    "# Animation: slightly growing/shrinking to simulate up/down movement with shade\n",
    "\n",
    "# Desired output\n",
    "# https://img.deszone.net/2018/05/simple-geometric-shapes-free-vector-pattern4.jpg\n",
    "# https://as1.ftcdn.net/jpg/01/72/82/18/500_F_172821814_Oyl3cNYBcigDpeCzehbAQghLxJILrZA5.jpg\n",
    "\n",
    "# Other ideas\n",
    "# Drones leave a fading trace"
   ]
  }
 ],
 "metadata": {
  "kernelspec": {
   "display_name": "Python 3",
   "language": "python",
   "name": "python3"
  },
  "language_info": {
   "codemirror_mode": {
    "name": "ipython",
    "version": 3
   },
   "file_extension": ".py",
   "mimetype": "text/x-python",
   "name": "python",
   "nbconvert_exporter": "python",
   "pygments_lexer": "ipython3",
   "version": "3.6.7"
  }
 },
 "nbformat": 4,
 "nbformat_minor": 4
}
