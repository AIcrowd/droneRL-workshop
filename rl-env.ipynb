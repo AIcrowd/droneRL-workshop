{
 "cells": [
  {
   "cell_type": "code",
   "execution_count": null,
   "metadata": {},
   "outputs": [],
   "source": [
    "%matplotlib inline\n",
    "import matplotlib.pyplot as plt\n",
    "import numpy as np"
   ]
  },
  {
   "cell_type": "markdown",
   "metadata": {},
   "source": [
    "Environment\n",
    "---"
   ]
  },
  {
   "cell_type": "code",
   "execution_count": null,
   "metadata": {},
   "outputs": [],
   "source": [
    "from enum import Enum\n",
    "\n",
    "class Tile(Enum):\n",
    "    EMPTY = 0\n",
    "    DRONE = 1\n",
    "    PAQUET = 2\n",
    "    DROPZONE = 3\n",
    "        \n",
    "class Arena():\n",
    "    drone_density = 0.05\n",
    "    \n",
    "    def __init__(self, drone_names):\n",
    "        # Save drones\n",
    "        self.drone_names = drone_names\n",
    "        self.n_drones = len(self.drone_names)\n",
    "        \n",
    "        # Compute arena size\n",
    "        arena_side_size = int(np.ceil(np.sqrt(\n",
    "            self.n_drones / Arena.drone_density)))\n",
    "        self.shape = (arena_side_size, arena_side_size)\n",
    "        \n",
    "        # Create arena grid\n",
    "        self.grid = np.full(self.shape, fill_value=Tile.EMPTY)\n",
    "        \n",
    "    def span_drone(self):\n",
    "        pass\n",
    "    \n",
    "    def __str__(self):\n",
    "        # Convert grid tiles to text\n",
    "        def tile_to_char(tile):\n",
    "            if tile is Tile.EMPTY:\n",
    "                return ' '\n",
    "            if tile is Tile.DRONE:\n",
    "                return '§'\n",
    "            if tile is Tile.PAQUET:\n",
    "                return 'x'\n",
    "            if tile is Tile.DROPZONE:\n",
    "                return 'o'\n",
    "            return '?'\n",
    "        grid_char = np.vectorize(tile_to_char)(self.grid)\n",
    "        \n",
    "        # Assemble tiles into a grid\n",
    "        lines = ['+---'*self.shape[1]+'+']\n",
    "        for i, row in enumerate(grid_char):\n",
    "            line_str = '| '\n",
    "            for j, tile_str in enumerate(row):\n",
    "                line_str += tile_str + ' | '\n",
    "            lines.append(line_str)\n",
    "            lines.append('+---'*self.shape[1]+'+')\n",
    "            \n",
    "        return '\\n'.join(lines)\n",
    "        \n",
    "# Create arena\n",
    "arena = Arena(['fred', 'florian'])\n",
    "print(arena)"
   ]
  },
  {
   "cell_type": "markdown",
   "metadata": {},
   "source": [
    "Graphics\n",
    "---"
   ]
  },
  {
   "cell_type": "code",
   "execution_count": null,
   "metadata": {},
   "outputs": [],
   "source": [
    "# TODO\n",
    "\n",
    "# Drone, pickup, dropoff, collision ~ simple geometric shapes\n",
    "# https://image.freepik.com/free-vector/simple-geometric-shapes-background_1168-371.jpg\n",
    "# Animation: slightly growing/shrinking to simulate up/down movement with shade\n",
    "\n",
    "# Desired output\n",
    "# https://img.deszone.net/2018/05/simple-geometric-shapes-free-vector-pattern4.jpg\n",
    "# https://as1.ftcdn.net/jpg/01/72/82/18/500_F_172821814_Oyl3cNYBcigDpeCzehbAQghLxJILrZA5.jpg\n",
    "\n",
    "# Other ideas\n",
    "# Drones leave a fading trace"
   ]
  }
 ],
 "metadata": {
  "kernelspec": {
   "display_name": "Python 3",
   "language": "python",
   "name": "python3"
  },
  "language_info": {
   "codemirror_mode": {
    "name": "ipython",
    "version": 3
   },
   "file_extension": ".py",
   "mimetype": "text/x-python",
   "name": "python",
   "nbconvert_exporter": "python",
   "pygments_lexer": "ipython3",
   "version": "3.6.7"
  }
 },
 "nbformat": 4,
 "nbformat_minor": 4
}
