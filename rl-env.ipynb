{
 "cells": [
  {
   "cell_type": "code",
   "execution_count": null,
   "metadata": {},
   "outputs": [],
   "source": [
    "%matplotlib inline\n",
    "import matplotlib.pyplot as plt\n",
    "\n",
    "import numpy as np"
   ]
  },
  {
   "cell_type": "markdown",
   "metadata": {},
   "source": [
    "Environment\n",
    "---"
   ]
  },
  {
   "cell_type": "code",
   "execution_count": null,
   "metadata": {},
   "outputs": [],
   "source": [
    "# TODO"
   ]
  },
  {
   "cell_type": "code",
   "execution_count": null,
   "metadata": {},
   "outputs": [],
   "source": [
    "class Drone():\n",
    "    size = 50\n",
    "    def __init__(self, player):\n",
    "        self.player = player\n",
    "        \n",
    "        # TODO: remove Player into Drone with player_name\n",
    "        \n",
    "class Player():\n",
    "    def __init__(self, arena, name):\n",
    "        self.name = name\n",
    "        self.arena = arena\n",
    "        self.drone = Drone(self)\n",
    "        self.position = (None, None)\n",
    "        \n",
    "    def set_position(self, *args):\n",
    "        self.position = args[0], args[1]\n",
    "         \n",
    "class Arena():\n",
    "    space_factor = 16 # how much space does one drone need? (factor of its size)\n",
    "    def __init__(self):\n",
    "        self.players = []\n",
    "        self.shape = None\n",
    "        \n",
    "    def add_player(self, name):\n",
    "        self.players.append(Player(self, name))\n",
    "        \n",
    "    def initialize(self):\n",
    "        # Arena shape\n",
    "        n_drones = len(self.players)\n",
    "        tot_space = Drone.size * Drone.size * Arena.space_factor * n_drones\n",
    "        arena_edge_size = int(np.ceil(np.sqrt(tot_space)))\n",
    "        self.shape = (arena_edge_size, arena_edge_size)\n",
    "        \n",
    "        # Initialize players\n",
    "        for player in self.players:\n",
    "            player.set_position(10, 10)\n",
    "        \n",
    "        pass\n",
    "    \n",
    "    def __str__(self):\n",
    "        lines = []\n",
    "        lines.append('Arena with {} players of shape {}'.format(len(self.players), self.shape)) # header\n",
    "        for i, player in enumerate(self.players, 1):\n",
    "            lines.append('({:02d}) Player \"{}\" at {}'.format(i, player.name, player.position))\n",
    "            \n",
    "        return '\\n'.join(lines)\n",
    "        \n",
    "# Create arena\n",
    "arena = Arena()\n",
    "\n",
    "# Add players\n",
    "for name in ['fred', 'florian']:\n",
    "    arena.add_player(name)\n",
    "    \n",
    "# Initialize arena\n",
    "arena.initialize()\n",
    "\n",
    "print(arena)\n",
    "type(arena.shape[0])"
   ]
  },
  {
   "cell_type": "markdown",
   "metadata": {},
   "source": [
    "Graphics\n",
    "---"
   ]
  },
  {
   "cell_type": "code",
   "execution_count": null,
   "metadata": {},
   "outputs": [],
   "source": [
    "# TODO\n",
    "\n",
    "# Drone, pickup, dropoff, collision ~ simple geometric shapes\n",
    "# https://image.freepik.com/free-vector/simple-geometric-shapes-background_1168-371.jpg\n",
    "# Animation: slightly growing/shrinking to simulate up/down movement with shade\n",
    "\n",
    "# Desired output\n",
    "# https://img.deszone.net/2018/05/simple-geometric-shapes-free-vector-pattern4.jpg\n",
    "# https://as1.ftcdn.net/jpg/01/72/82/18/500_F_172821814_Oyl3cNYBcigDpeCzehbAQghLxJILrZA5.jpg\n",
    "\n",
    "# Other ideas\n",
    "# Drones leave a fading trace"
   ]
  }
 ],
 "metadata": {
  "kernelspec": {
   "display_name": "Python 3",
   "language": "python",
   "name": "python3"
  },
  "language_info": {
   "codemirror_mode": {
    "name": "ipython",
    "version": 3
   },
   "file_extension": ".py",
   "mimetype": "text/x-python",
   "name": "python",
   "nbconvert_exporter": "python",
   "pygments_lexer": "ipython3",
   "version": "3.6.7"
  }
 },
 "nbformat": 4,
 "nbformat_minor": 4
}
